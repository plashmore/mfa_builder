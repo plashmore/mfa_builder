{
 "cells": [
  {
   "cell_type": "markdown",
   "id": "bcbf4aba-c7ad-487e-b694-5049ffbb606c",
   "metadata": {},
   "source": [
    "For Dataframes:"
   ]
  },
  {
   "cell_type": "code",
   "execution_count": 13,
   "id": "cd44a82b-dcdc-41d0-9b2f-ec59b75f23c4",
   "metadata": {
    "tags": []
   },
   "outputs": [],
   "source": [
    "import pandas as pd"
   ]
  },
  {
   "cell_type": "markdown",
   "id": "da8aaaad-c175-46ea-a698-ddc2bb117fdd",
   "metadata": {},
   "source": [
    "For MFA function:"
   ]
  },
  {
   "cell_type": "code",
   "execution_count": 14,
   "id": "d6be5bd9-6c4d-4035-a859-33be698e3644",
   "metadata": {
    "tags": []
   },
   "outputs": [],
   "source": [
    "import prince"
   ]
  },
  {
   "cell_type": "markdown",
   "id": "2af509ad-d98f-48aa-83db-e3caecec908c",
   "metadata": {},
   "source": [
    "While loop to include CSVs of groupings"
   ]
  },
  {
   "cell_type": "code",
   "execution_count": 53,
   "id": "183ffb1c-974c-4246-8ac8-778335e189bf",
   "metadata": {
    "tags": []
   },
   "outputs": [
    {
     "name": "stdin",
     "output_type": "stream",
     "text": [
      "Do you have more classes to include (yes/no): yes\n",
      "Filename (include .csv): test.csv\n",
      "Group name: group1\n"
     ]
    },
    {
     "name": "stdout",
     "output_type": "stream",
     "text": [
      "  sample  compound1  compound2  compound3\n",
      "0      a          1          4          3\n",
      "1      b          2          3          2\n",
      "2      c          3          2          1\n",
      "3      d          4          1          4\n",
      "<class 'pandas.core.frame.DataFrame'>\n",
      "{'group1': ['compound1', 'compound2', 'compound3']}\n",
      "<class 'dict'>\n"
     ]
    },
    {
     "name": "stdin",
     "output_type": "stream",
     "text": [
      "Do you have more classes to include (yes/no): yes\n",
      "Filename (include .csv): test2.csv\n",
      "Group name: group2\n"
     ]
    },
    {
     "name": "stdout",
     "output_type": "stream",
     "text": [
      "  sample  compound1  compound2  compound3  compound5  compound6  compound7\n",
      "0      a          1          4          3          2          3          4\n",
      "1      b          2          3          2          4          2          2\n",
      "2      c          3          2          1          1          4          3\n",
      "3      d          4          1          4          3          1          1\n",
      "<class 'pandas.core.frame.DataFrame'>\n",
      "{'group1': ['compound1', 'compound2', 'compound3'], 'group2': ['compound5', 'compound6', 'compound7']}\n",
      "<class 'dict'>\n"
     ]
    },
    {
     "name": "stdin",
     "output_type": "stream",
     "text": [
      "Do you have more classes to include (yes/no): no\n"
     ]
    },
    {
     "name": "stdout",
     "output_type": "stream",
     "text": [
      "  sample  compound1  compound2  compound3  compound5  compound6  compound7\n",
      "0      a          1          4          3          2          3          4\n",
      "1      b          2          3          2          4          2          2\n",
      "2      c          3          2          1          1          4          3\n",
      "3      d          4          1          4          3          1          1\n",
      "<class 'pandas.core.frame.DataFrame'>\n",
      "{'group1': ['compound1', 'compound2', 'compound3'], 'group2': ['compound5', 'compound6', 'compound7']}\n",
      "<class 'dict'>\n"
     ]
    },
    {
     "data": {
      "text/html": [
       "\n",
       "<style>\n",
       "  #altair-viz-dfcf25d17f70432b8ebb519dc0d2abbd.vega-embed {\n",
       "    width: 100%;\n",
       "    display: flex;\n",
       "  }\n",
       "\n",
       "  #altair-viz-dfcf25d17f70432b8ebb519dc0d2abbd.vega-embed details,\n",
       "  #altair-viz-dfcf25d17f70432b8ebb519dc0d2abbd.vega-embed details summary {\n",
       "    position: relative;\n",
       "  }\n",
       "</style>\n",
       "<div id=\"altair-viz-dfcf25d17f70432b8ebb519dc0d2abbd\"></div>\n",
       "<script type=\"text/javascript\">\n",
       "  var VEGA_DEBUG = (typeof VEGA_DEBUG == \"undefined\") ? {} : VEGA_DEBUG;\n",
       "  (function(spec, embedOpt){\n",
       "    let outputDiv = document.currentScript.previousElementSibling;\n",
       "    if (outputDiv.id !== \"altair-viz-dfcf25d17f70432b8ebb519dc0d2abbd\") {\n",
       "      outputDiv = document.getElementById(\"altair-viz-dfcf25d17f70432b8ebb519dc0d2abbd\");\n",
       "    }\n",
       "    const paths = {\n",
       "      \"vega\": \"https://cdn.jsdelivr.net/npm/vega@5?noext\",\n",
       "      \"vega-lib\": \"https://cdn.jsdelivr.net/npm/vega-lib?noext\",\n",
       "      \"vega-lite\": \"https://cdn.jsdelivr.net/npm/vega-lite@5.16.3?noext\",\n",
       "      \"vega-embed\": \"https://cdn.jsdelivr.net/npm/vega-embed@6?noext\",\n",
       "    };\n",
       "\n",
       "    function maybeLoadScript(lib, version) {\n",
       "      var key = `${lib.replace(\"-\", \"\")}_version`;\n",
       "      return (VEGA_DEBUG[key] == version) ?\n",
       "        Promise.resolve(paths[lib]) :\n",
       "        new Promise(function(resolve, reject) {\n",
       "          var s = document.createElement('script');\n",
       "          document.getElementsByTagName(\"head\")[0].appendChild(s);\n",
       "          s.async = true;\n",
       "          s.onload = () => {\n",
       "            VEGA_DEBUG[key] = version;\n",
       "            return resolve(paths[lib]);\n",
       "          };\n",
       "          s.onerror = () => reject(`Error loading script: ${paths[lib]}`);\n",
       "          s.src = paths[lib];\n",
       "        });\n",
       "    }\n",
       "\n",
       "    function showError(err) {\n",
       "      outputDiv.innerHTML = `<div class=\"error\" style=\"color:red;\">${err}</div>`;\n",
       "      throw err;\n",
       "    }\n",
       "\n",
       "    function displayChart(vegaEmbed) {\n",
       "      vegaEmbed(outputDiv, spec, embedOpt)\n",
       "        .catch(err => showError(`Javascript Error: ${err.message}<br>This usually means there's a typo in your chart specification. See the javascript console for the full traceback.`));\n",
       "    }\n",
       "\n",
       "    if(typeof define === \"function\" && define.amd) {\n",
       "      requirejs.config({paths});\n",
       "      require([\"vega-embed\"], displayChart, err => showError(`Error loading script: ${err.message}`));\n",
       "    } else {\n",
       "      maybeLoadScript(\"vega\", \"5\")\n",
       "        .then(() => maybeLoadScript(\"vega-lite\", \"5.16.3\"))\n",
       "        .then(() => maybeLoadScript(\"vega-embed\", \"6\"))\n",
       "        .catch(showError)\n",
       "        .then(() => displayChart(vegaEmbed));\n",
       "    }\n",
       "  })({\"config\": {\"view\": {\"continuousWidth\": 300, \"continuousHeight\": 300}}, \"data\": {\"name\": \"data-4e2668e5f2f0053321cfa99bda469ff5\"}, \"mark\": {\"type\": \"circle\"}, \"encoding\": {\"tooltip\": [{\"field\": \"index\", \"type\": \"quantitative\"}, {\"field\": \"component 0\", \"type\": \"quantitative\"}, {\"field\": \"component 1\", \"type\": \"quantitative\"}], \"x\": {\"axis\": {\"title\": \"component 0 \\u2014 67.48%\"}, \"field\": \"component 0\", \"scale\": {\"zero\": false}, \"type\": \"quantitative\"}, \"y\": {\"axis\": {\"title\": \"component 1 \\u2014 32.52%\"}, \"field\": \"component 1\", \"scale\": {\"zero\": false}, \"type\": \"quantitative\"}}, \"params\": [{\"name\": \"param_1\", \"select\": {\"type\": \"interval\", \"encodings\": [\"x\", \"y\"]}, \"bind\": \"scales\"}], \"$schema\": \"https://vega.github.io/schema/vega-lite/v5.16.3.json\", \"datasets\": {\"data-4e2668e5f2f0053321cfa99bda469ff5\": [{\"index\": 0, \"component 0\": -1.3360779239994942, \"component 1\": -0.7873816293991309}, {\"index\": 1, \"component 0\": 0.11012916485693258, \"component 1\": -0.6800683795987886}, {\"index\": 2, \"component 0\": -0.7720720029243173, \"component 1\": 1.411181417744905}, {\"index\": 3, \"component 0\": 1.9980207620668793, \"component 1\": 0.05626859125301446}]}}, {\"mode\": \"vega-lite\"});\n",
       "</script>"
      ],
      "text/plain": [
       "alt.Chart(...)"
      ]
     },
     "execution_count": 53,
     "metadata": {},
     "output_type": "execute_result"
    }
   ],
   "source": [
    "answer=\"yes\"\n",
    "index=1\n",
    "groups={}\n",
    "master=pd.DataFrame()\n",
    "while answer!=\"no\":\n",
    "    answer=input(\"Do you have more classes to include (yes/no):\")\n",
    "    while answer != \"yes\" and answer != \"no\":\n",
    "        answer=input(\"Please input 'yes' or 'no':\")\n",
    "    if answer == \"yes\":\n",
    "        file_name=input(\"Filename (include .csv):\")\n",
    "        df=pd.read_csv(file_name)\n",
    "        group_name=input(\"Group name:\")\n",
    "        group_cols=df.columns.tolist()[1:]\n",
    "        if index==1:\n",
    "            master=df\n",
    "        else:\n",
    "            df2=df.drop(df.columns[0], axis=1)\n",
    "            master=pd.concat([master,df2], axis=1)\n",
    "            \n",
    "    groups[group_name]=group_cols\n",
    "    print(master)\n",
    "    print(type(master))\n",
    "    print(groups)\n",
    "    index=index+1\n",
    "    print(type(groups))\n",
    "mfa=prince.MFA(n_components=2, n_iter=3, copy=True, check_input=True, engine='sklearn', random_state=42)\n",
    "\n",
    "master2=master.drop(df.columns[0],axis=1)\n",
    "mfa=mfa.fit(master2, groups=groups)\n",
    "mfa.plot(master2, x_component=0, y_component=1)"
   ]
  },
  {
   "cell_type": "code",
   "execution_count": null,
   "id": "d2ec367f-d8b5-40b1-ad8e-639a87e45e40",
   "metadata": {},
   "outputs": [],
   "source": []
  }
 ],
 "metadata": {
  "kernelspec": {
   "display_name": "Python 3 (ipykernel)",
   "language": "python",
   "name": "python3"
  },
  "language_info": {
   "codemirror_mode": {
    "name": "ipython",
    "version": 3
   },
   "file_extension": ".py",
   "mimetype": "text/x-python",
   "name": "python",
   "nbconvert_exporter": "python",
   "pygments_lexer": "ipython3",
   "version": "3.11.5"
  }
 },
 "nbformat": 4,
 "nbformat_minor": 5
}
